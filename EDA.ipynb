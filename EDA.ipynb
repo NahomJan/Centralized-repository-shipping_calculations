{
  "nbformat": 4,
  "nbformat_minor": 0,
  "metadata": {
    "colab": {
      "provenance": [],
      "authorship_tag": "ABX9TyNkvd1eL/EEHoKVzm/QaN/h",
      "include_colab_link": true
    },
    "kernelspec": {
      "name": "python3",
      "display_name": "Python 3"
    },
    "language_info": {
      "name": "python"
    }
  },
  "cells": [
    {
      "cell_type": "markdown",
      "metadata": {
        "id": "view-in-github",
        "colab_type": "text"
      },
      "source": [
        "<a href=\"https://colab.research.google.com/github/NahomJan/Exploring-Data-Analysis-EDA-/blob/main/EDA.ipynb\" target=\"_parent\"><img src=\"https://colab.research.google.com/assets/colab-badge.svg\" alt=\"Open In Colab\"/></a>"
      ]
    },
    {
      "cell_type": "markdown",
      "source": [
        "#import library\n"
      ],
      "metadata": {
        "id": "UM7AmsYqYB1K"
      }
    },
    {
      "cell_type": "code",
      "execution_count": 2,
      "metadata": {
        "id": "PDFYGf8ALpgD"
      },
      "outputs": [],
      "source": [
        "import pandas as pd #reading the file\n",
        "import numpy as np  #data transformation and mathematical concept\n",
        "import matplotlib.pyplot as plt #data visualization\n",
        "import seaborn as sns #advanced data visualization"
      ]
    },
    {
      "cell_type": "markdown",
      "source": [
        "#Load data\n"
      ],
      "metadata": {
        "id": "oF92SiM7YWSP"
      }
    },
    {
      "cell_type": "code",
      "source": [
        "df = pd.read_csv('/content/Netflix Life Impact Dataset (NLID).csv')"
      ],
      "metadata": {
        "id": "qNgrBMt1Lr28"
      },
      "execution_count": 3,
      "outputs": []
    },
    {
      "cell_type": "code",
      "source": [
        "df.head()\n"
      ],
      "metadata": {
        "colab": {
          "base_uri": "https://localhost:8080/",
          "height": 608
        },
        "id": "w5p3fTidYn_G",
        "outputId": "f2225b2d-9f5c-4e2a-92f5-7b41f5ae033a"
      },
      "execution_count": 4,
      "outputs": [
        {
          "output_type": "execute_result",
          "data": {
            "text/plain": [
              "                Movie Title           Genre  Release Year  Average Rating  \\\n",
              "0  The Pursuit of Happyness           Drama          2006             9.1   \n",
              "1        The Social Dilemma     Documentary          2020             8.2   \n",
              "2                  Parasite  Thriller/Drama          2019             9.3   \n",
              "3              Paddington 2   Comedy/Family          2017             8.8   \n",
              "4                 Inception          Sci-Fi          2010             9.0   \n",
              "\n",
              "   Number of Reviews                                  Review Highlights  \\\n",
              "0              42000  \"Will Smith’s struggle hit hard. A must-watch!...   \n",
              "1              35000  \"Eye-opening about tech addiction.\" / \"Some cl...   \n",
              "2              50000  \"Masterpiece on class inequality.\" / \"Too dark...   \n",
              "3              28000  \"Pure joy! Teaches kindness effortlessly.\" / \"...   \n",
              "4              45000     \"Mind-bending brilliance.\" / \"Confusing plot.\"   \n",
              "\n",
              "    Minute of Life-Changing Insight          How Discovered  \\\n",
              "0        78:15 – Chris gets the job        Friend suggested   \n",
              "1    12:40 – Algorithm manipulation            Social media   \n",
              "2         1:12:00 – The flood scene  Netflix recommendation   \n",
              "3  33:10 – Paddington’s jail speech        Friend suggested   \n",
              "4      1:05:22 – Cobb’s totem scene            Social media   \n",
              "\n",
              "                Meaningful Advice Taken Suggested to Friends/Family (Y/N %)  \n",
              "0                 Persistence pays off.                               92% Y  \n",
              "1  Limit screen time for mental health.                               88% Y  \n",
              "2       Privilege isn’t always visible.                               85% Y  \n",
              "3               Always choose kindness.                               95% Y  \n",
              "4                Reality is subjective.                               80% Y  "
            ],
            "text/html": [
              "\n",
              "  <div id=\"df-47fb3561-a546-414c-a246-0f5ee717bbd0\" class=\"colab-df-container\">\n",
              "    <div>\n",
              "<style scoped>\n",
              "    .dataframe tbody tr th:only-of-type {\n",
              "        vertical-align: middle;\n",
              "    }\n",
              "\n",
              "    .dataframe tbody tr th {\n",
              "        vertical-align: top;\n",
              "    }\n",
              "\n",
              "    .dataframe thead th {\n",
              "        text-align: right;\n",
              "    }\n",
              "</style>\n",
              "<table border=\"1\" class=\"dataframe\">\n",
              "  <thead>\n",
              "    <tr style=\"text-align: right;\">\n",
              "      <th></th>\n",
              "      <th>Movie Title</th>\n",
              "      <th>Genre</th>\n",
              "      <th>Release Year</th>\n",
              "      <th>Average Rating</th>\n",
              "      <th>Number of Reviews</th>\n",
              "      <th>Review Highlights</th>\n",
              "      <th>Minute of Life-Changing Insight</th>\n",
              "      <th>How Discovered</th>\n",
              "      <th>Meaningful Advice Taken</th>\n",
              "      <th>Suggested to Friends/Family (Y/N %)</th>\n",
              "    </tr>\n",
              "  </thead>\n",
              "  <tbody>\n",
              "    <tr>\n",
              "      <th>0</th>\n",
              "      <td>The Pursuit of Happyness</td>\n",
              "      <td>Drama</td>\n",
              "      <td>2006</td>\n",
              "      <td>9.1</td>\n",
              "      <td>42000</td>\n",
              "      <td>\"Will Smith’s struggle hit hard. A must-watch!...</td>\n",
              "      <td>78:15 – Chris gets the job</td>\n",
              "      <td>Friend suggested</td>\n",
              "      <td>Persistence pays off.</td>\n",
              "      <td>92% Y</td>\n",
              "    </tr>\n",
              "    <tr>\n",
              "      <th>1</th>\n",
              "      <td>The Social Dilemma</td>\n",
              "      <td>Documentary</td>\n",
              "      <td>2020</td>\n",
              "      <td>8.2</td>\n",
              "      <td>35000</td>\n",
              "      <td>\"Eye-opening about tech addiction.\" / \"Some cl...</td>\n",
              "      <td>12:40 – Algorithm manipulation</td>\n",
              "      <td>Social media</td>\n",
              "      <td>Limit screen time for mental health.</td>\n",
              "      <td>88% Y</td>\n",
              "    </tr>\n",
              "    <tr>\n",
              "      <th>2</th>\n",
              "      <td>Parasite</td>\n",
              "      <td>Thriller/Drama</td>\n",
              "      <td>2019</td>\n",
              "      <td>9.3</td>\n",
              "      <td>50000</td>\n",
              "      <td>\"Masterpiece on class inequality.\" / \"Too dark...</td>\n",
              "      <td>1:12:00 – The flood scene</td>\n",
              "      <td>Netflix recommendation</td>\n",
              "      <td>Privilege isn’t always visible.</td>\n",
              "      <td>85% Y</td>\n",
              "    </tr>\n",
              "    <tr>\n",
              "      <th>3</th>\n",
              "      <td>Paddington 2</td>\n",
              "      <td>Comedy/Family</td>\n",
              "      <td>2017</td>\n",
              "      <td>8.8</td>\n",
              "      <td>28000</td>\n",
              "      <td>\"Pure joy! Teaches kindness effortlessly.\" / \"...</td>\n",
              "      <td>33:10 – Paddington’s jail speech</td>\n",
              "      <td>Friend suggested</td>\n",
              "      <td>Always choose kindness.</td>\n",
              "      <td>95% Y</td>\n",
              "    </tr>\n",
              "    <tr>\n",
              "      <th>4</th>\n",
              "      <td>Inception</td>\n",
              "      <td>Sci-Fi</td>\n",
              "      <td>2010</td>\n",
              "      <td>9.0</td>\n",
              "      <td>45000</td>\n",
              "      <td>\"Mind-bending brilliance.\" / \"Confusing plot.\"</td>\n",
              "      <td>1:05:22 – Cobb’s totem scene</td>\n",
              "      <td>Social media</td>\n",
              "      <td>Reality is subjective.</td>\n",
              "      <td>80% Y</td>\n",
              "    </tr>\n",
              "  </tbody>\n",
              "</table>\n",
              "</div>\n",
              "    <div class=\"colab-df-buttons\">\n",
              "\n",
              "  <div class=\"colab-df-container\">\n",
              "    <button class=\"colab-df-convert\" onclick=\"convertToInteractive('df-47fb3561-a546-414c-a246-0f5ee717bbd0')\"\n",
              "            title=\"Convert this dataframe to an interactive table.\"\n",
              "            style=\"display:none;\">\n",
              "\n",
              "  <svg xmlns=\"http://www.w3.org/2000/svg\" height=\"24px\" viewBox=\"0 -960 960 960\">\n",
              "    <path d=\"M120-120v-720h720v720H120Zm60-500h600v-160H180v160Zm220 220h160v-160H400v160Zm0 220h160v-160H400v160ZM180-400h160v-160H180v160Zm440 0h160v-160H620v160ZM180-180h160v-160H180v160Zm440 0h160v-160H620v160Z\"/>\n",
              "  </svg>\n",
              "    </button>\n",
              "\n",
              "  <style>\n",
              "    .colab-df-container {\n",
              "      display:flex;\n",
              "      gap: 12px;\n",
              "    }\n",
              "\n",
              "    .colab-df-convert {\n",
              "      background-color: #E8F0FE;\n",
              "      border: none;\n",
              "      border-radius: 50%;\n",
              "      cursor: pointer;\n",
              "      display: none;\n",
              "      fill: #1967D2;\n",
              "      height: 32px;\n",
              "      padding: 0 0 0 0;\n",
              "      width: 32px;\n",
              "    }\n",
              "\n",
              "    .colab-df-convert:hover {\n",
              "      background-color: #E2EBFA;\n",
              "      box-shadow: 0px 1px 2px rgba(60, 64, 67, 0.3), 0px 1px 3px 1px rgba(60, 64, 67, 0.15);\n",
              "      fill: #174EA6;\n",
              "    }\n",
              "\n",
              "    .colab-df-buttons div {\n",
              "      margin-bottom: 4px;\n",
              "    }\n",
              "\n",
              "    [theme=dark] .colab-df-convert {\n",
              "      background-color: #3B4455;\n",
              "      fill: #D2E3FC;\n",
              "    }\n",
              "\n",
              "    [theme=dark] .colab-df-convert:hover {\n",
              "      background-color: #434B5C;\n",
              "      box-shadow: 0px 1px 3px 1px rgba(0, 0, 0, 0.15);\n",
              "      filter: drop-shadow(0px 1px 2px rgba(0, 0, 0, 0.3));\n",
              "      fill: #FFFFFF;\n",
              "    }\n",
              "  </style>\n",
              "\n",
              "    <script>\n",
              "      const buttonEl =\n",
              "        document.querySelector('#df-47fb3561-a546-414c-a246-0f5ee717bbd0 button.colab-df-convert');\n",
              "      buttonEl.style.display =\n",
              "        google.colab.kernel.accessAllowed ? 'block' : 'none';\n",
              "\n",
              "      async function convertToInteractive(key) {\n",
              "        const element = document.querySelector('#df-47fb3561-a546-414c-a246-0f5ee717bbd0');\n",
              "        const dataTable =\n",
              "          await google.colab.kernel.invokeFunction('convertToInteractive',\n",
              "                                                    [key], {});\n",
              "        if (!dataTable) return;\n",
              "\n",
              "        const docLinkHtml = 'Like what you see? Visit the ' +\n",
              "          '<a target=\"_blank\" href=https://colab.research.google.com/notebooks/data_table.ipynb>data table notebook</a>'\n",
              "          + ' to learn more about interactive tables.';\n",
              "        element.innerHTML = '';\n",
              "        dataTable['output_type'] = 'display_data';\n",
              "        await google.colab.output.renderOutput(dataTable, element);\n",
              "        const docLink = document.createElement('div');\n",
              "        docLink.innerHTML = docLinkHtml;\n",
              "        element.appendChild(docLink);\n",
              "      }\n",
              "    </script>\n",
              "  </div>\n",
              "\n",
              "\n",
              "    <div id=\"df-5707deb8-711a-4dca-a59c-dd38935c2249\">\n",
              "      <button class=\"colab-df-quickchart\" onclick=\"quickchart('df-5707deb8-711a-4dca-a59c-dd38935c2249')\"\n",
              "                title=\"Suggest charts\"\n",
              "                style=\"display:none;\">\n",
              "\n",
              "<svg xmlns=\"http://www.w3.org/2000/svg\" height=\"24px\"viewBox=\"0 0 24 24\"\n",
              "     width=\"24px\">\n",
              "    <g>\n",
              "        <path d=\"M19 3H5c-1.1 0-2 .9-2 2v14c0 1.1.9 2 2 2h14c1.1 0 2-.9 2-2V5c0-1.1-.9-2-2-2zM9 17H7v-7h2v7zm4 0h-2V7h2v10zm4 0h-2v-4h2v4z\"/>\n",
              "    </g>\n",
              "</svg>\n",
              "      </button>\n",
              "\n",
              "<style>\n",
              "  .colab-df-quickchart {\n",
              "      --bg-color: #E8F0FE;\n",
              "      --fill-color: #1967D2;\n",
              "      --hover-bg-color: #E2EBFA;\n",
              "      --hover-fill-color: #174EA6;\n",
              "      --disabled-fill-color: #AAA;\n",
              "      --disabled-bg-color: #DDD;\n",
              "  }\n",
              "\n",
              "  [theme=dark] .colab-df-quickchart {\n",
              "      --bg-color: #3B4455;\n",
              "      --fill-color: #D2E3FC;\n",
              "      --hover-bg-color: #434B5C;\n",
              "      --hover-fill-color: #FFFFFF;\n",
              "      --disabled-bg-color: #3B4455;\n",
              "      --disabled-fill-color: #666;\n",
              "  }\n",
              "\n",
              "  .colab-df-quickchart {\n",
              "    background-color: var(--bg-color);\n",
              "    border: none;\n",
              "    border-radius: 50%;\n",
              "    cursor: pointer;\n",
              "    display: none;\n",
              "    fill: var(--fill-color);\n",
              "    height: 32px;\n",
              "    padding: 0;\n",
              "    width: 32px;\n",
              "  }\n",
              "\n",
              "  .colab-df-quickchart:hover {\n",
              "    background-color: var(--hover-bg-color);\n",
              "    box-shadow: 0 1px 2px rgba(60, 64, 67, 0.3), 0 1px 3px 1px rgba(60, 64, 67, 0.15);\n",
              "    fill: var(--button-hover-fill-color);\n",
              "  }\n",
              "\n",
              "  .colab-df-quickchart-complete:disabled,\n",
              "  .colab-df-quickchart-complete:disabled:hover {\n",
              "    background-color: var(--disabled-bg-color);\n",
              "    fill: var(--disabled-fill-color);\n",
              "    box-shadow: none;\n",
              "  }\n",
              "\n",
              "  .colab-df-spinner {\n",
              "    border: 2px solid var(--fill-color);\n",
              "    border-color: transparent;\n",
              "    border-bottom-color: var(--fill-color);\n",
              "    animation:\n",
              "      spin 1s steps(1) infinite;\n",
              "  }\n",
              "\n",
              "  @keyframes spin {\n",
              "    0% {\n",
              "      border-color: transparent;\n",
              "      border-bottom-color: var(--fill-color);\n",
              "      border-left-color: var(--fill-color);\n",
              "    }\n",
              "    20% {\n",
              "      border-color: transparent;\n",
              "      border-left-color: var(--fill-color);\n",
              "      border-top-color: var(--fill-color);\n",
              "    }\n",
              "    30% {\n",
              "      border-color: transparent;\n",
              "      border-left-color: var(--fill-color);\n",
              "      border-top-color: var(--fill-color);\n",
              "      border-right-color: var(--fill-color);\n",
              "    }\n",
              "    40% {\n",
              "      border-color: transparent;\n",
              "      border-right-color: var(--fill-color);\n",
              "      border-top-color: var(--fill-color);\n",
              "    }\n",
              "    60% {\n",
              "      border-color: transparent;\n",
              "      border-right-color: var(--fill-color);\n",
              "    }\n",
              "    80% {\n",
              "      border-color: transparent;\n",
              "      border-right-color: var(--fill-color);\n",
              "      border-bottom-color: var(--fill-color);\n",
              "    }\n",
              "    90% {\n",
              "      border-color: transparent;\n",
              "      border-bottom-color: var(--fill-color);\n",
              "    }\n",
              "  }\n",
              "</style>\n",
              "\n",
              "      <script>\n",
              "        async function quickchart(key) {\n",
              "          const quickchartButtonEl =\n",
              "            document.querySelector('#' + key + ' button');\n",
              "          quickchartButtonEl.disabled = true;  // To prevent multiple clicks.\n",
              "          quickchartButtonEl.classList.add('colab-df-spinner');\n",
              "          try {\n",
              "            const charts = await google.colab.kernel.invokeFunction(\n",
              "                'suggestCharts', [key], {});\n",
              "          } catch (error) {\n",
              "            console.error('Error during call to suggestCharts:', error);\n",
              "          }\n",
              "          quickchartButtonEl.classList.remove('colab-df-spinner');\n",
              "          quickchartButtonEl.classList.add('colab-df-quickchart-complete');\n",
              "        }\n",
              "        (() => {\n",
              "          let quickchartButtonEl =\n",
              "            document.querySelector('#df-5707deb8-711a-4dca-a59c-dd38935c2249 button');\n",
              "          quickchartButtonEl.style.display =\n",
              "            google.colab.kernel.accessAllowed ? 'block' : 'none';\n",
              "        })();\n",
              "      </script>\n",
              "    </div>\n",
              "\n",
              "    </div>\n",
              "  </div>\n"
            ],
            "application/vnd.google.colaboratory.intrinsic+json": {
              "type": "dataframe",
              "variable_name": "df",
              "summary": "{\n  \"name\": \"df\",\n  \"rows\": 82,\n  \"fields\": [\n    {\n      \"column\": \"Movie Title\",\n      \"properties\": {\n        \"dtype\": \"string\",\n        \"num_unique_values\": 82,\n        \"samples\": [\n          \"The Guilty\",\n          \"The Pursuit of Happyness\",\n          \"Mank\"\n        ],\n        \"semantic_type\": \"\",\n        \"description\": \"\"\n      }\n    },\n    {\n      \"column\": \"Genre\",\n      \"properties\": {\n        \"dtype\": \"category\",\n        \"num_unique_values\": 22,\n        \"samples\": [\n          \"Drama\",\n          \"Satire\",\n          \"Historical Drama\"\n        ],\n        \"semantic_type\": \"\",\n        \"description\": \"\"\n      }\n    },\n    {\n      \"column\": \"Release Year\",\n      \"properties\": {\n        \"dtype\": \"number\",\n        \"std\": 2,\n        \"min\": 2006,\n        \"max\": 2021,\n        \"num_unique_values\": 11,\n        \"samples\": [\n          2016,\n          2006,\n          2021\n        ],\n        \"semantic_type\": \"\",\n        \"description\": \"\"\n      }\n    },\n    {\n      \"column\": \"Average Rating\",\n      \"properties\": {\n        \"dtype\": \"number\",\n        \"std\": 1.097159701144879,\n        \"min\": 4.0,\n        \"max\": 9.4,\n        \"num_unique_values\": 37,\n        \"samples\": [\n          8.7,\n          8.1,\n          9.0\n        ],\n        \"semantic_type\": \"\",\n        \"description\": \"\"\n      }\n    },\n    {\n      \"column\": \"Number of Reviews\",\n      \"properties\": {\n        \"dtype\": \"number\",\n        \"std\": 12796,\n        \"min\": 8000,\n        \"max\": 65000,\n        \"num_unique_values\": 34,\n        \"samples\": [\n          27000,\n          12000,\n          20000\n        ],\n        \"semantic_type\": \"\",\n        \"description\": \"\"\n      }\n    },\n    {\n      \"column\": \"Review Highlights\",\n      \"properties\": {\n        \"dtype\": \"string\",\n        \"num_unique_values\": 82,\n        \"samples\": [\n          \"\\\"Gripping single-location drama.\\\" / \\\"Predictable twists.\\\"\",\n          \"\\\"Will Smith\\u2019s struggle hit hard. A must-watch!\\\" / \\\"Overly sentimental but inspiring.\\\"\",\n          \"\\\"Cinematography masterpiece.\\\" / \\\"Too niche for casual viewers.\\\"\"\n        ],\n        \"semantic_type\": \"\",\n        \"description\": \"\"\n      }\n    },\n    {\n      \"column\": \"Minute of Life-Changing Insight\",\n      \"properties\": {\n        \"dtype\": \"string\",\n        \"num_unique_values\": 82,\n        \"samples\": [\n          \"1:02:00 \\u2013 Truth revealed\",\n          \"78:15 \\u2013 Chris gets the job\",\n          \"1:20:00 \\u2013 Writer\\u2019s block\"\n        ],\n        \"semantic_type\": \"\",\n        \"description\": \"\"\n      }\n    },\n    {\n      \"column\": \"How Discovered\",\n      \"properties\": {\n        \"dtype\": \"category\",\n        \"num_unique_values\": 13,\n        \"samples\": [\n          \"Stephen King adaptation\",\n          \"Netflix original\",\n          \"Friend suggested\"\n        ],\n        \"semantic_type\": \"\",\n        \"description\": \"\"\n      }\n    },\n    {\n      \"column\": \"Meaningful Advice Taken\",\n      \"properties\": {\n        \"dtype\": \"string\",\n        \"num_unique_values\": 81,\n        \"samples\": [\n          \"Guilt distorts judgment.\",\n          \"Persistence pays off.\",\n          \"Art demands sacrifice.\"\n        ],\n        \"semantic_type\": \"\",\n        \"description\": \"\"\n      }\n    },\n    {\n      \"column\": \"Suggested to Friends/Family (Y/N %)\",\n      \"properties\": {\n        \"dtype\": \"string\",\n        \"num_unique_values\": 45,\n        \"samples\": [\n          \"57% Y\",\n          \"78% Y\",\n          \"86% Y\"\n        ],\n        \"semantic_type\": \"\",\n        \"description\": \"\"\n      }\n    }\n  ]\n}"
            }
          },
          "metadata": {},
          "execution_count": 4
        }
      ]
    },
    {
      "cell_type": "markdown",
      "source": [
        "#Basic informations"
      ],
      "metadata": {
        "id": "LijmHq8dY4dG"
      }
    },
    {
      "cell_type": "code",
      "source": [
        "print('Data Shape:', df.shape)"
      ],
      "metadata": {
        "colab": {
          "base_uri": "https://localhost:8080/"
        },
        "id": "Vjw26H5TY6si",
        "outputId": "43522607-6e7c-42fe-d5e0-cd7f253aa6b8"
      },
      "execution_count": 5,
      "outputs": [
        {
          "output_type": "stream",
          "name": "stdout",
          "text": [
            "Data Shape: (82, 10)\n"
          ]
        }
      ]
    },
    {
      "cell_type": "code",
      "source": [
        "print('Data Info',df.info())"
      ],
      "metadata": {
        "colab": {
          "base_uri": "https://localhost:8080/"
        },
        "id": "31zGk5AEZj-a",
        "outputId": "6358410a-71c7-40f7-e5c2-bccc78293e6c"
      },
      "execution_count": 6,
      "outputs": [
        {
          "output_type": "stream",
          "name": "stdout",
          "text": [
            "<class 'pandas.core.frame.DataFrame'>\n",
            "RangeIndex: 82 entries, 0 to 81\n",
            "Data columns (total 10 columns):\n",
            " #   Column                               Non-Null Count  Dtype  \n",
            "---  ------                               --------------  -----  \n",
            " 0   Movie Title                          82 non-null     object \n",
            " 1   Genre                                82 non-null     object \n",
            " 2   Release Year                         82 non-null     int64  \n",
            " 3   Average Rating                       82 non-null     float64\n",
            " 4   Number of Reviews                    82 non-null     int64  \n",
            " 5   Review Highlights                    82 non-null     object \n",
            " 6   Minute of Life-Changing Insight      82 non-null     object \n",
            " 7   How Discovered                       82 non-null     object \n",
            " 8   Meaningful Advice Taken              82 non-null     object \n",
            " 9   Suggested to Friends/Family (Y/N %)  82 non-null     object \n",
            "dtypes: float64(1), int64(2), object(7)\n",
            "memory usage: 6.5+ KB\n",
            "Data Info None\n"
          ]
        }
      ]
    },
    {
      "cell_type": "code",
      "source": [
        "print('Data types:', df.dtypes)"
      ],
      "metadata": {
        "colab": {
          "base_uri": "https://localhost:8080/"
        },
        "id": "T0mwgkaFZ7Bq",
        "outputId": "2430cf88-2339-4a2f-bfc9-d240bed6ee18"
      },
      "execution_count": 7,
      "outputs": [
        {
          "output_type": "stream",
          "name": "stdout",
          "text": [
            "Data types: Movie Title                             object\n",
            "Genre                                   object\n",
            "Release Year                             int64\n",
            "Average Rating                         float64\n",
            "Number of Reviews                        int64\n",
            "Review Highlights                       object\n",
            "Minute of Life-Changing Insight         object\n",
            "How Discovered                          object\n",
            "Meaningful Advice Taken                 object\n",
            "Suggested to Friends/Family (Y/N %)     object\n",
            "dtype: object\n"
          ]
        }
      ]
    },
    {
      "cell_type": "code",
      "source": [
        "print('\\nmissing value:\\n', df.isnull().sum())"
      ],
      "metadata": {
        "colab": {
          "base_uri": "https://localhost:8080/"
        },
        "id": "kbIdEWrYaQI6",
        "outputId": "d2b2e7a7-fabc-4d25-faf4-dc1e94098bc7"
      },
      "execution_count": 8,
      "outputs": [
        {
          "output_type": "stream",
          "name": "stdout",
          "text": [
            "\n",
            "missing value:\n",
            " Movie Title                            0\n",
            "Genre                                  0\n",
            "Release Year                           0\n",
            "Average Rating                         0\n",
            "Number of Reviews                      0\n",
            "Review Highlights                      0\n",
            "Minute of Life-Changing Insight        0\n",
            "How Discovered                         0\n",
            "Meaningful Advice Taken                0\n",
            "Suggested to Friends/Family (Y/N %)    0\n",
            "dtype: int64\n"
          ]
        }
      ]
    }
  ]
}